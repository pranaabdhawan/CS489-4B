{
 "cells": [
  {
   "cell_type": "markdown",
   "metadata": {},
   "source": [
    "# A3"
   ]
  },
  {
   "cell_type": "code",
   "execution_count": 2,
   "metadata": {},
   "outputs": [],
   "source": [
    "from jupyterthemes import jtplot\n",
    "jtplot.style(theme='chesterish')"
   ]
  },
  {
   "cell_type": "code",
   "execution_count": 4,
   "metadata": {
    "code_folding": [
     0
    ]
   },
   "outputs": [],
   "source": [
    "# Standard imports\n",
    "import numpy as np\n",
    "import matplotlib.pylab as plt\n",
    "%matplotlib inline\n",
    "import Network as Network\n",
    "import copy"
   ]
  },
  {
   "cell_type": "markdown",
   "metadata": {
    "heading_collapsed": true
   },
   "source": [
    "# Q1: Vanishing Gradient"
   ]
  },
  {
   "cell_type": "markdown",
   "metadata": {
    "hidden": true
   },
   "source": [
    "## (a)"
   ]
  },
  {
   "cell_type": "markdown",
   "metadata": {
    "hidden": true
   },
   "source": [
    "The logistic function may be written as:\n",
    "$$\n",
    "\\begin{align}\n",
    "{\\sigma (z)}&= \\frac{1} {1 + e^{-z}}\n",
    "\\end{align}\n",
    "$$\n",
    "The derivative of the function being:\n",
    "$$\n",
    "\\begin{align}\n",
    "\\frac{d \\sigma(z)}{dz} &= {\\sigma(z)(1-\\sigma(z))}\n",
    "\\end{align}\n",
    "$$\n",
    "From last week's assignment, we know that the derivative has a maximum value of 0.25 (at z= 0)\n",
    "Therefore, since we may control h and b as independent variables in the equation, we can say:\n",
    "$$\n",
    "\\begin{align}\n",
    "|w\\sigma^\\prime(wh+b)| \\leq |w(0.25)|\n",
    "\\end{align}\n",
    "$$\n",
    "Therefore,\n",
    "$$\n",
    "\\begin{align}\n",
    "|w\\sigma^\\prime(wh+b)| \\geq 1 \\\\\n",
    "\\implies |w(0.25)| \\geq 1 \\\\\n",
    "\\implies |w| \\geq \\frac{1}{0.25} \\\\\n",
    "\\implies |w| \\geq 4 &\n",
    "\\end{align}\n",
    "$$\n",
    "Hence, proved"
   ]
  },
  {
   "cell_type": "markdown",
   "metadata": {},
   "source": [
    "\n",
    "$$\n",
    "\\begin{align}\n",
    "p ( c | \\mu, \\sigma) &= \\frac{1} {(2\\pi |\\sigma|)^\\frac{3}{2}}e^{\\frac{-1}{2}(c-\\mu)^T\\sigma^{-1}(c-\\mu)}\n",
    "\\end{align}\n",
    "$$"
   ]
  },
  {
   "cell_type": "markdown",
   "metadata": {
    "hidden": true
   },
   "source": [
    "## (b)"
   ]
  },
  {
   "cell_type": "markdown",
   "metadata": {
    "hidden": true
   },
   "source": [
    "Let\n",
    "$$\n",
    "\\begin{align}\n",
    "m = \\sigma(wh +b)\n",
    "\\end{align}\n",
    "$$\n",
    "We know,\n",
    "$$\n",
    "\\begin{align}\n",
    "|w\\sigma^\\prime(wh+b)| \\geq 1\n",
    "\\implies |wm(1-m)| \\geq 1\n",
    "\\end{align}\n",
    "$$\n",
    "This holds true when:\n",
    "$$\n",
    "\\begin{align}\n",
    "m^2 - m + \\frac{1}{w} \\leq 0 \n",
    "\\end{align}\n",
    "$$\n",
    "OR\n",
    "$$\n",
    "\\begin{align}\n",
    " m^2 - m - \\frac{1}{w} \\geq 0 \n",
    "\\end{align}\n",
    "$$\n",
    "Let's solve the inequalities in a general form (with |w|). The roots are:\n",
    "$$\n",
    "\\begin{align}\n",
    "m = \\frac{1 \\pm \\sqrt{1 - \\frac{4}{|w|}}}{2}\n",
    "\\end{align}\n",
    "$$\n",
    "For ax^2 + bx + c = 0, since a > 0, we know that for the inequality:\n",
    "$$\n",
    "\\begin{align}\n",
    "\\frac{1 - \\sqrt{1 - \\frac{4}{|w|}}}{2} \\leq m \\leq \\frac{1 + \\sqrt{1 - \\frac{4}{|w|}}}{2}\n",
    "\\end{align}\n",
    "$$\n",
    "Substituting the logistic equation back into m:\n",
    "$$\n",
    "\\begin{align}\n",
    "\\frac{1 - \\sqrt{1 - \\frac{4}{|w|}}}{2} \\leq \\frac{1}{1 + e^{-(wh + b)}} \\leq \\frac{1 + \\sqrt{1 - \\frac{4}{|w|}}}{2}\n",
    "\\end{align}\n",
    "$$\n",
    "This can be simplified to:\n",
    "$$\n",
    "\\begin{align}\n",
    "\\frac{-(ln(\\frac{1 + \\sqrt{1 - \\frac{4}{|w|}}}{1 - \\sqrt{1 - \\frac{4}{|w|}}}) + b)}{w} \\leq h \\leq \\frac{-(ln(\\frac{1 - \\sqrt{1 - \\frac{4}{|w|}}}{1 + \\sqrt{1 - \\frac{4}{|w|}}}) + b)}{w}\n",
    "\\end{align}\n",
    "$$\n",
    "The interval width of h can be calculated by taking the difference of the 2 extremes:\n",
    "\n",
    "$$\n",
    "\\begin{align}\n",
    "interval\\space width = \\frac{(ln(\\frac{1 + \\sqrt{1 - \\frac{4}{|w|}}}{1 - \\sqrt{1 - \\frac{4}{|w|}}}) + b)}{w} - \\frac{(ln(\\frac{1 - \\sqrt{1 - \\frac{4}{|w|}}}{1 + \\sqrt{1 - \\frac{4}{|w|}}}) + b)}{w}\n",
    "\\end{align}\n",
    "$$\n",
    "Since both cases of positive and negative values of w lead to the same width, without loss of generalization we may replace w by |w|:\n",
    "$$\n",
    "\\begin{align}\n",
    "interval\\space width = \\frac{(ln(\\frac{1 + \\sqrt{1 - \\frac{4}{|w|}}}{1 - \\sqrt{1 - \\frac{4}{|w|}}}) + b)}{|w|} - \\frac{(ln(\\frac{1 - \\sqrt{1 - \\frac{4}{|w|}}}{1 + \\sqrt{1 - \\frac{4}{|w|}}}) + b)}{|w|}\n",
    "\\end{align}\n",
    "$$\n",
    "$$\n",
    "\\begin{align}\n",
    "interval\\space width = \\frac{1}{|w|}(ln(\\frac{1 + \\sqrt{1 - \\frac{4}{|w|}}}{1 - \\sqrt{1 - \\frac{4}{|w|}}}) + b) - (ln(\\frac{1 - \\sqrt{1 - \\frac{4}{|w|}}}{1 + \\sqrt{1 - \\frac{4}{|w|}}}) + b) \\\\\n",
    "interval\\space width = \\frac{2}{|w|}(ln(1 + \\sqrt{1 - \\frac{4}{|w|}}) - ln(1 - \\sqrt{1 - \\frac{4}{|w|}})) \\\\\n",
    "interval\\space width = \\frac{2}{|w|}(ln(\\frac{1 + \\sqrt{1 - \\frac{4}{|w|}}}{1 - \\sqrt{1 - \\frac{4}{|w|}}})) \\\\\n",
    "interval\\space width = \\frac{2}{|w|}(ln(\\frac{1 + \\sqrt{1 - \\frac{4}{|w|}}}{1 - \\sqrt{1 - \\frac{4}{|w|}}}*\\frac{1 + \\sqrt{1 - \\frac{4}{|w|}}}{1 + \\sqrt{1 - \\frac{4}{|w|}}}) \\\\\n",
    "\\end{align}\n",
    "$$\n",
    "$$\n",
    "\\begin{align}\n",
    "interval\\space width = \\frac{2}{|w|}ln(\\frac{2\\sqrt{1 - \\frac{4}{|w|}} - \\frac{4}{|w|} + 2}{\\frac{4}{|w|}})\n",
    "\\end{align}\n",
    "$$\n",
    "which can be simplified to:\n",
    "$$\n",
    "\\begin{align}\n",
    "interval\\space width = \\frac{2}{|w|}ln(\\frac{|w|}{2}(1 + \\sqrt{1 - \\frac{4}{|w|}}) - 1)\n",
    "\\end{align}\n",
    "$$\n",
    "Hence, proved."
   ]
  },
  {
   "cell_type": "markdown",
   "metadata": {
    "hidden": true
   },
   "source": [
    "## (c) Plots"
   ]
  },
  {
   "cell_type": "code",
   "execution_count": 5,
   "metadata": {
    "hidden": true
   },
   "outputs": [
    {
     "data": {
      "image/png": "[encoded data removed]",
      "text/plain": [
       "<Figure size 432x288 with 1 Axes>"
      ]
     },
     "metadata": {
      "needs_background": "dark"
     },
     "output_type": "display_data"
    },
    {
     "name": "stdout",
     "output_type": "stream",
     "text": [
      "Maximum value of |w| occurs at 6.89\n"
     ]
    }
   ],
   "source": [
    "def get_value(w):\n",
    "    return (2./np.abs(w)) * np.log((np.abs(w)/2.)*(1 + np.sqrt(1 - (4./np.abs(w)))) - 1)\n",
    "\n",
    "x1 = np.linspace(4,20,5000)\n",
    "y1 = get_value(x1)\n",
    "\n",
    "x2 = np.linspace(-20,-4,5000)\n",
    "y2 = get_value(x2)\n",
    "\n",
    "plt.plot(np.abs(x1), y1)\n",
    "plt.plot(np.abs(x2), y2)\n",
    "\n",
    "plt.title('Plot from expression provided in part (b)')\n",
    "plt.xlabel('|W|')\n",
    "plt.ylabel('Value')\n",
    "\n",
    "\n",
    "plt.show()\n",
    "print(\"Maximum value of |w| occurs at %.2f\" % x1[np.argmax(y1)])\n"
   ]
  },
  {
   "cell_type": "markdown",
   "metadata": {},
   "source": [
    "# Q2: Dropout"
   ]
  },
  {
   "cell_type": "markdown",
   "metadata": {
    "heading_collapsed": true
   },
   "source": [
    "## Dataset"
   ]
  },
  {
   "cell_type": "code",
   "execution_count": 7,
   "metadata": {
    "code_folding": [],
    "hidden": true
   },
   "outputs": [],
   "source": [
    "def GenerateDatasets(n):\n",
    "    # 1D -> 1D (line mapping)\n",
    "    n_input = 1\n",
    "    n_output = 1\n",
    "    noise = 0.5\n",
    "\n",
    "    #np.random.seed(452)\n",
    "    a = np.random.rand()/2.\n",
    "    m = np.random.rand() + 0.5\n",
    "    b = np.random.rand()-0.5\n",
    "\n",
    "    def myfunc(x):\n",
    "        return a*x**2 + m*x + b\n",
    "\n",
    "    # Create a training dataset\n",
    "    n_samples = n\n",
    "    training_output = []\n",
    "    training_input = []\n",
    "    xv = np.linspace(-1, 1, n_samples)\n",
    "    for idx in range(n_samples):\n",
    "        #x = np.random.rand()*2. - 1.\n",
    "        x = xv[idx]\n",
    "        t = myfunc(x) + np.random.normal(scale=noise)\n",
    "        training_input.append(np.array([x]))\n",
    "        training_output.append(np.array([t]))\n",
    "\n",
    "    # Create a testing dataset\n",
    "    test_input = []\n",
    "    test_output = []\n",
    "    n_test_samples = 300\n",
    "    xv = np.linspace(-1, 1, n_test_samples)\n",
    "    for idx in range(n_test_samples):\n",
    "        #x = np.random.rand()*2. - 1.\n",
    "        x = xv[idx] #+ np.random.normal(scale=0.1)\n",
    "        t = myfunc(x) + np.random.normal(scale=noise)\n",
    "        test_input.append(np.array([x]))\n",
    "        test_output.append(np.array([t]))\n",
    "\n",
    "\n",
    "    train = [np.array(training_input), np.array(training_output)]\n",
    "    test = [np.array(test_input), np.array(test_output)]\n",
    "    \n",
    "    return train, test"
   ]
  },
  {
   "cell_type": "markdown",
   "metadata": {
    "heading_collapsed": true
   },
   "source": [
    "## Sample Code"
   ]
  },
  {
   "cell_type": "code",
   "execution_count": 8,
   "metadata": {
    "hidden": true
   },
   "outputs": [],
   "source": [
    "# Here is an example, creating a Network object.\n",
    "net = Network.Network(cost='cross-entropy')\n",
    "net.AddLayer(Network.Layer(1))\n",
    "net.AddLayer(Network.Layer(6, act='logistic'))\n",
    "net.AddLayer(Network.Layer(1, act='logistic'))"
   ]
  },
  {
   "cell_type": "code",
   "execution_count": 9,
   "metadata": {
    "hidden": true
   },
   "outputs": [],
   "source": [
    "# Generate the training and testing datasets\n",
    "P = 5\n",
    "train, test = GenerateDatasets(P)"
   ]
  },
  {
   "cell_type": "code",
   "execution_count": 10,
   "metadata": {
    "hidden": true
   },
   "outputs": [],
   "source": [
    "# Train the network\n",
    "progress = net.SGD(train[0], train[1], epochs=100, lrate=1.)"
   ]
  },
  {
   "cell_type": "code",
   "execution_count": 11,
   "metadata": {
    "hidden": true
   },
   "outputs": [
    {
     "name": "stdout",
     "output_type": "stream",
     "text": [
      "Training cost = -0.28093899812442913\n",
      "    Test cost = -0.009424927204797295\n"
     ]
    }
   ],
   "source": [
    "# Evaluate the cost \n",
    "print('Training cost = '+str(net.Evaluate(train[0], train[1])))\n",
    "print('    Test cost = '+str(net.Evaluate(test[0], test[1])))\n",
    "\n",
    "# These results won't necessarily make sense, since the network model\n",
    "# might not be the right choice for the dataset."
   ]
  },
  {
   "cell_type": "markdown",
   "metadata": {},
   "source": [
    "## 2 (a), (b), 3 (a) Completing the RobustNetwork Class"
   ]
  },
  {
   "cell_type": "code",
   "execution_count": 12,
   "metadata": {},
   "outputs": [],
   "source": [
    "class RobustNetwork(Network.Network):\n",
    "    \n",
    "    def FeedForward(self, x, dropout=0):\n",
    "        '''\n",
    "            y = net.FeedForward(x, dropout=0)\n",
    "\n",
    "            Runs the network forward, starting with x as input.\n",
    "            However, a random subset of the hidden nodes are set to 0 activity.\n",
    "            Returns the activity of the output layer.\n",
    "\n",
    "            Inputs:\n",
    "              x is a batch of inputs\n",
    "              dropout is a probability that a node is dropped, in [0,1]\n",
    "              \n",
    "            Outputs:\n",
    "              y is the batch of outputs (no dropout or the output layer)\n",
    "        '''\n",
    "        # X shape: [num_samples, size_of_input_layer]\n",
    "        \n",
    "        if dropout==0.:\n",
    "            self.dropout_nonzero = False  # Internal flag for dropout\n",
    "            super(RobustNetwork, self).FeedForward(x)\n",
    "        else:\n",
    "            self.dropout_nonzero = True   # Internal flag for dropout\n",
    "            \n",
    "            x = np.array(x)  # Convert input to array, in case it's not\n",
    "            \n",
    "            self.lyr[0].h = x # Set input layer\n",
    "            \n",
    "            self.mask = []  # mask will record which nodes were dropped\n",
    "            self.mask.append(None)  # Input layer does not have dropout\n",
    "            \n",
    "            # Save dropout or compute 1/dropout as layer_size/num_active\n",
    "            self.dropout = dropout\n",
    "            # Loop over connections\n",
    "            for pre,post,W in zip(self.lyr[:-1], self.lyr[1:], self.W):\n",
    "                \n",
    "                # Calc. input current to next layer\n",
    "                post.z = pre.h @ W + post.b\n",
    "\n",
    "                # Use activation function to get activities\n",
    "                post.h = post.sigma(post.z)\n",
    "                \n",
    "                if post == self.lyr[-1]:\n",
    "                    # Dropout is added only to the hidden layers.\n",
    "                    continue\n",
    "                \n",
    "                # Add dropout for this layer:\n",
    "                # Dropout will remain constant for a mini-batch.\n",
    "                # False: Dropped out, True: Contained\n",
    "                post_mask = np.random.choice([False, True], size=post.N, p=[dropout, 1-dropout])\n",
    "                self.mask.append(post_mask)\n",
    "                post.h *= post_mask # post.h.shape = [num_samples, layer_size]\n",
    "                \n",
    "                scale = post.N/np.sum(post_mask) if np.sum(post_mask) > 0 else 1\n",
    "\n",
    "                # Scale input to the next layer\n",
    "                post.h *= scale\n",
    "                \n",
    "                \n",
    "                \n",
    "        # Return activity of output layer\n",
    "        return self.lyr[-1].h\n",
    "    \n",
    "    \n",
    "    \n",
    "    def BackProp(self, t, lrate=0.05, decay=0.):\n",
    "        '''\n",
    "            net.BackProp(targets, lrate=0.05)\n",
    "            \n",
    "            Given the current network state and targets t, updates the connection\n",
    "            weights and biases using the backpropagation algorithm.\n",
    "            \n",
    "            Inputs:\n",
    "             t      an array of targets (number of samples must match the\n",
    "                    network's output)\n",
    "             lrate  learning rate\n",
    "             decay  is the coefficient for weight/bias decay\n",
    "        '''\n",
    "        t = np.array(t)  # convert t to an array, in case it's not\n",
    "        \n",
    "        # Error gradient for top layer\n",
    "        dEdz = self.TopGradient(t)\n",
    "        \n",
    "        # Loop down through the layers\n",
    "        for i in range(self.n_layers-2, -1, -1):\n",
    "            pre = self.lyr[i]\n",
    "            \n",
    "            # Gradient w.r.t. weights\n",
    "            dEdW = pre.h.T @ dEdz\n",
    "            \n",
    "            # Adding Decay to the weights\n",
    "            dEdW += 2*decay*self.W[i]\n",
    "            \n",
    "            # Gradient w.r.t. biases\n",
    "            dEdb = np.sum(dEdz, axis=0)\n",
    "            \n",
    "            #Adding Decay to the biases\n",
    "            dEdb += 2*decay*self.lyr[i+1].b\n",
    "            \n",
    "            # Project error gradient down to layer below.\n",
    "            if i>0:\n",
    "                # pre.sigma_z_p(pre.z) gives dh/dz not dH/dz (dH = 2*dh) since it calculate logistic()\n",
    "                if self.dropout_nonzero:\n",
    "                    scale = len(self.mask[i])/np.sum(self.mask[i]) if np.sum(self.mask[i]) > 0 else 1\n",
    "                    # Broadcasting matched the shapes: [num_samples, layer_size]\n",
    "                    dEdz = ( dEdz @ (scale * self.W[i]).T ) * (pre.sigma_z_p(pre.z) * self.mask[i])\n",
    "                else:\n",
    "                    dEdz = ( dEdz @ self.W[i].T ) * pre.sigma_z_p(pre.z)\n",
    "                    \n",
    "            \n",
    "            # Update weights and biases\n",
    "            self.W[i] -= lrate*dEdW\n",
    "            self.lyr[i+1].b -= lrate*dEdb\n",
    "    \n",
    "    \n",
    "    def SGD(self, inputs, targets, lrate=0.05, epochs=1, batch_size=10, decay=0, dropout=0):\n",
    "        '''\n",
    "            progress = net.SGD(inputs, targets, lrate=0.05, epochs=1, decay=0, dropout=0)\n",
    "\n",
    "            Performs Stochastic Gradient Descent on the network.\n",
    "            Run through the dataset in batches 'epochs' number of times, incrementing the\n",
    "            network weights after each batch. For each epoch, it\n",
    "            shuffles the dataset.\n",
    "\n",
    "            Inputs:\n",
    "              inputs  is an array of input samples\n",
    "              targets is a corresponding array of targets\n",
    "              lrate   is the learning rate (try 0.001 to 5)\n",
    "              epochs  is the number of times to go through the training data\n",
    "              decay   is the decay coefficient for the weights and biases\n",
    "              dropout is the dropout probability\n",
    "              \n",
    "            Outputs:\n",
    "              progress is an (expochs)x2 array with epoch in the first column, and \n",
    "                      cost in the second column\n",
    "        '''\n",
    "        loss_history = []\n",
    "        for k in range(epochs):\n",
    "            batches = Network.MakeBatches(inputs, targets, batch_size=batch_size, shuffle=True)\n",
    "            for mini_batch in batches:\n",
    "                self.FeedForward(mini_batch[0], dropout=dropout)\n",
    "                self.BackProp(mini_batch[1], decay=decay)\n",
    "\n",
    "            loss_history.append([k, self.Evaluate(inputs, targets)])\n",
    "\n",
    "        return np.array(loss_history)\n"
   ]
  },
  {
   "cell_type": "markdown",
   "metadata": {},
   "source": [
    "## (c) Create the Network"
   ]
  },
  {
   "cell_type": "code",
   "execution_count": 13,
   "metadata": {},
   "outputs": [],
   "source": [
    "def create_networks(cost_function='MSE', activation_hidden='arctan', activation_output='identity', lyr_sizes=[1,10,1]):\n",
    "    original_net = RobustNetwork(cost=cost_function)\n",
    "    original_net.AddLayer(Network.Layer(lyr_sizes[0]))\n",
    "    original_net.AddLayer(Network.Layer(lyr_sizes[1], act=activation_hidden))\n",
    "    original_net.AddLayer(Network.Layer(lyr_sizes[2], act=activation_output))\n",
    "    dropout_net = copy.deepcopy(original_net)\n",
    "    return original_net, dropout_net\n",
    "\n",
    "original_net, dropout_net = create_networks()"
   ]
  },
  {
   "cell_type": "markdown",
   "metadata": {},
   "source": [
    "## (d) Train and Evaluate without dropout"
   ]
  },
  {
   "cell_type": "code",
   "execution_count": 14,
   "metadata": {},
   "outputs": [
    {
     "name": "stdout",
     "output_type": "stream",
     "text": [
      "Training cost = 0.006668792684497686\n",
      "Test cost = 0.5398618645513655\n"
     ]
    }
   ],
   "source": [
    "def train_and_evaluate(network, train, test, dropout=0, decay=0, epochs=5000, lrate=1., batch_size=5):\n",
    "    progress = network.SGD(train[0], train[1], epochs=epochs, lrate=lrate, dropout=dropout, decay=decay, batch_size=batch_size)\n",
    "    train_cost = network.Evaluate(train[0], train[1])\n",
    "    test_cost = network.Evaluate(test[0], test[1])\n",
    "    return train_cost, test_cost\n",
    "\n",
    "train, test = GenerateDatasets(5)\n",
    "train_cost, test_cost = train_and_evaluate(original_net, train, test, dropout=0)\n",
    "print('Training cost = '+ str(train_cost))\n",
    "print('Test cost = '+str(test_cost))"
   ]
  },
  {
   "cell_type": "markdown",
   "metadata": {},
   "source": [
    "## (e) Train and Evaluate with dropout"
   ]
  },
  {
   "cell_type": "code",
   "execution_count": 15,
   "metadata": {},
   "outputs": [
    {
     "name": "stdout",
     "output_type": "stream",
     "text": [
      "Training cost = 0.25555427398268676\n",
      "Test cost = 0.27090553718700455\n"
     ]
    }
   ],
   "source": [
    "train_cost, test_cost= train_and_evaluate(dropout_net, train, test, dropout=0.2)\n",
    "print('Training cost = '+ str(train_cost))\n",
    "print('Test cost = '+str(test_cost))"
   ]
  },
  {
   "cell_type": "markdown",
   "metadata": {},
   "source": [
    "## (f) Plot training data and models"
   ]
  },
  {
   "cell_type": "code",
   "execution_count": 16,
   "metadata": {},
   "outputs": [
    {
     "data": {
      "image/png": "[encoded data removed]",
      "text/plain": [
       "<Figure size 432x288 with 1 Axes>"
      ]
     },
     "metadata": {
      "needs_background": "dark"
     },
     "output_type": "display_data"
    }
   ],
   "source": [
    "s = np.linspace(-1, 1, 200)\n",
    "original_output = original_net.FeedForward(np.array([s]).T)\n",
    "dropout_output = dropout_net.FeedForward(np.array([s]).T)\n",
    "\n",
    "plt.plot(s,original_output, 'b--')\n",
    "plt.plot(s,dropout_output, 'r--')\n",
    "plt.plot(train[0], train[1], 'bo')\n",
    "plt.plot(test[0], test[1], 'yo')\n",
    "plt.xlabel('Input')\n",
    "plt.ylabel('Output');"
   ]
  },
  {
   "cell_type": "markdown",
   "metadata": {},
   "source": [
    "## (g) Average performance over 10 datasets"
   ]
  },
  {
   "cell_type": "code",
   "execution_count": 41,
   "metadata": {},
   "outputs": [
    {
     "name": "stdout",
     "output_type": "stream",
     "text": [
      "Mean Test Cost Original Network: 0.5761321022690868\n",
      "Mean Test Cost Dropout Network: 0.4338460072692746\n"
     ]
    }
   ],
   "source": [
    "test_cost_original, test_cost_dropout = [], []\n",
    "for i in range(10):\n",
    "    train, test = GenerateDatasets(5)\n",
    "    original_net, dropout_net = create_networks()\n",
    "    _, test_original = train_and_evaluate(original_net, train, test, dropout=0)\n",
    "    _, test_dropout = train_and_evaluate(dropout_net, train, test, dropout=0.2)\n",
    "    test_cost_original.append(test_original)\n",
    "    test_cost_dropout.append(test_dropout)\n",
    "    \n",
    "print(\"Mean Test Cost Original Network: %s\" % str(np.mean(test_cost_original)))\n",
    "print(\"Mean Test Cost Dropout Network: %s\" % str(np.mean(test_cost_dropout)))\n",
    "    "
   ]
  },
  {
   "cell_type": "markdown",
   "metadata": {},
   "source": [
    "The Dropout Approach is preferred since it gives a lower mean error on the Test Set. The dropout is used as regularization technique - for every mini batch we randomly choose the activated nodes in a layer and hence create an ensemble of networks that learn the training function. This ensures the learned function doesn't overfit the data. Thus, even though we me have a larger error on the training set (implying did not overfit in our case), we get a lower error on the test set."
   ]
  },
  {
   "cell_type": "markdown",
   "metadata": {},
   "source": [
    "# Q3: Weight Decay"
   ]
  },
  {
   "cell_type": "markdown",
   "metadata": {},
   "source": [
    "## (a) Implement weigth decay in BackProp (see code above)"
   ]
  },
  {
   "cell_type": "markdown",
   "metadata": {},
   "source": [
    "## (b) Average performance over 10 datasets"
   ]
  },
  {
   "cell_type": "code",
   "execution_count": 96,
   "metadata": {},
   "outputs": [
    {
     "name": "stdout",
     "output_type": "stream",
     "text": [
      "Mean Test Cost Original Network: 0.28011730458254797\n",
      "Mean Test Cost Decay Network: 0.24124101186517674\n"
     ]
    }
   ],
   "source": [
    "test_cost_original, test_cost_decay = [], []\n",
    "for i in range(10):\n",
    "    train, test = GenerateDatasets(5)\n",
    "    original_net, decay_net = create_networks()\n",
    "    test_cost_original.append(train_and_evaluate(original_net, train, test, dropout=0, decay=0))\n",
    "    test_cost_decay.append(train_and_evaluate(dropout_net, train, test, dropout=0, decay=0.0004))\n",
    "    \n",
    "print(\"Mean Test Cost Original Network: %s\" % str(np.mean(test_cost_original)))\n",
    "print(\"Mean Test Cost Decay Network: %s\" % str(np.mean(test_cost_decay)))"
   ]
  },
  {
   "cell_type": "markdown",
   "metadata": {},
   "source": [
    "The Decay Approach is preferred since it gives a lower mean error on the Test Set. The weight decay is used as regularization parameter - the addition of the term in the error function implies that we prefer smaller weights over larger ones, and hence functions that don't overfit the data. Thus, even though we me have a larger error on the training set (implying did not overfit in our case), we get a lower error on the test set."
   ]
  },
  {
   "cell_type": "markdown",
   "metadata": {},
   "source": [
    "# Q4: Classifier Networks"
   ]
  },
  {
   "cell_type": "markdown",
   "metadata": {},
   "source": [
    "## Create and interesting dataset"
   ]
  },
  {
   "cell_type": "code",
   "execution_count": 100,
   "metadata": {
    "code_folding": [
     18
    ]
   },
   "outputs": [],
   "source": [
    "def ClassPlot(x, y):\n",
    "    # FeedForward\n",
    "    yc = Network.OneHot(y)\n",
    "    colour_options = ['y', 'b', 'r', 'g', 'k']\n",
    "    cidx = np.argmax(yc, axis=1)\n",
    "    colours = [colour_options[k] for k in cidx]\n",
    "    plt.scatter(x[:,0],x[:,1], color=colours, marker='.')\n",
    "    plt.axis('equal');\n",
    "\n",
    "def GaussianCluster(mu, sa, N, theta=0.):\n",
    "    theta_rad = theta/180*np.pi\n",
    "    c, s = np.cos(theta_rad), np.sin(theta_rad)\n",
    "    R = np.array([[c,-s],[s,c]])\n",
    "    M = R @ np.diag(sa) @ R.T\n",
    "    y = np.random.multivariate_normal(mu, M, N)\n",
    "    return y\n",
    "\n",
    "def CreateDataset(params):\n",
    "    '''\n",
    "        train, test = CreateDataset(params)\n",
    "        \n",
    "        Creates a dataset using a bunch of Gaussian clouds.\n",
    "        \n",
    "        Inputs:\n",
    "          params is a list of 5-tuples. Each tuple (or list)\n",
    "             describes a 2-D Gaussian cloud:\n",
    "             1) the mean\n",
    "             2) standard deviation along x and y directions\n",
    "             3) rotation of cloud (degrees counter-clockwise)\n",
    "             4) class index\n",
    "             5) number of points\n",
    "             \n",
    "        Outputs:\n",
    "          train is a list containing 2 arrays\n",
    "             - the first array contains the training inputs,\n",
    "               one per row\n",
    "             - the second array contains the corresponding classes\n",
    "          test has the same structure as train, but with\n",
    "               half the number of samples\n",
    "    '''\n",
    "    train_inputs = []\n",
    "    train_outputs = []\n",
    "    test_inputs = []\n",
    "    test_outputs = []\n",
    "    all_c = [p[3] for p in params]\n",
    "    n_classes = np.max(all_c)\n",
    "    for p in params:\n",
    "        xx = GaussianCluster(p[0], p[1], p[4], theta=p[2])\n",
    "        yy = np.zeros((p[4], n_classes+1))\n",
    "        yy[:,p[3]] = 1.\n",
    "        train_inputs.append(xx)\n",
    "        train_outputs.append(yy)\n",
    "        xtest = GaussianCluster(p[0], p[1], int(p[4]/2), theta=p[2])\n",
    "        ytest = np.zeros((int(p[4]/2), n_classes+1))\n",
    "        ytest[:,p[3]] = 1.\n",
    "        test_inputs.append(xtest)\n",
    "        test_outputs.append(ytest)\n",
    "    train = [np.vstack(train_inputs), np.vstack(train_outputs)]\n",
    "    test = [np.vstack(test_inputs), np.vstack(test_outputs)]\n",
    "    return train, test\n",
    "\n",
    "# 0=y, 1=b, 2=r\n",
    "params = [[[0.5, 0.5],   [0.025, 0.01],  -45, 0, 50],\n",
    "          [[-0.5,-0.5],  [0.025, 0.01],  -45, 0, 50],\n",
    "          [[-0.3,-0.35], [0.04,0.01],     10, 0, 80],\n",
    "          [[0.6,0],      [0.01,0.01],      0, 0, 50],\n",
    "          [[0.1,-0.04],  [0.1,0.005],     20, 0, 80],\n",
    "          [[0.5,-0.5],   [0.02,0.01],     45, 1, 50],\n",
    "          [[0,0.6],      [0.01,0.01],      0, 1, 50],\n",
    "          [[-0.5,0.1],   [0.02,0.01],     30, 1, 80],\n",
    "          [[-0.5,0.5],   [0.02,0.01],     45, 2, 50],\n",
    "          [[0,-0.6],     [0.01,0.01],      0, 2, 50],\n",
    "          [[0.2,0.3],    [0.01,0.004],     0, 2, 80],\n",
    "          [[-0.2,0.37],  [0.02,0.005],   -30, 2, 50],\n",
    "          [[0.25,-0.3],  [0.005,0.01],     0, 3, 60],\n",
    "          [[-0.1,0.1],   [0.01,0.01],    -30, 3, 50]\n",
    "         ]"
   ]
  },
  {
   "cell_type": "code",
   "execution_count": 101,
   "metadata": {},
   "outputs": [],
   "source": [
    "train, test = CreateDataset(params)"
   ]
  },
  {
   "cell_type": "code",
   "execution_count": 102,
   "metadata": {},
   "outputs": [
    {
     "data": {
      "image/png": "[encoded data removed]",
      "text/plain": [
       "<Figure size 432x288 with 1 Axes>"
      ]
     },
     "metadata": {
      "needs_background": "light"
     },
     "output_type": "display_data"
    }
   ],
   "source": [
    "ClassPlot(train[0], train[1]);"
   ]
  },
  {
   "cell_type": "code",
   "execution_count": 101,
   "metadata": {
    "scrolled": true
   },
   "outputs": [
    {
     "name": "stdout",
     "output_type": "stream",
     "text": [
      "Cost Function: categorical-cross-entropy Activation Hidden: logistic Activation Output: softmax Mean Test Accuracy: 0.8857831325301204\n",
      "Cost Function: categorical-cross-entropy Activation Hidden: ReLU Activation Output: softmax Mean Test Accuracy: 0.9002409638554217\n",
      "Cost Function: categorical-cross-entropy Activation Hidden: arctan Activation Output: softmax Mean Test Accuracy: 0.9195180722891566\n",
      "Cost Function: categorical-cross-entropy Activation Hidden: tanh Activation Output: softmax Mean Test Accuracy: 0.9180722891566264\n",
      "Cost Function: categorical-cross-entropy Activation Hidden: identity Activation Output: softmax Mean Test Accuracy: 0.4997590361445784\n",
      "Cost Function: cross-entropy Activation Hidden: logistic Activation Output: logistic Mean Test Accuracy: 0.6014457831325302\n"
     ]
    },
    {
     "name": "stderr",
     "output_type": "stream",
     "text": [
      "/Users/pranaab/Developer/Term4B/CS489/A3/Network.py:102: RuntimeWarning: divide by zero encountered in true_divide\n",
      "  return (y-t) / y / (1.-y) / NSamples(y)\n",
      "/Users/pranaab/Developer/Term4B/CS489/A3/Network.py:102: RuntimeWarning: invalid value encountered in true_divide\n",
      "  return (y-t) / y / (1.-y) / NSamples(y)\n",
      "/Users/pranaab/Developer/Term4B/CS489/A3/Network.py:379: RuntimeWarning: invalid value encountered in multiply\n",
      "  return self.cost_p(self.lyr[-1].h, targets) * self.lyr[-1].sigma_p(self.lyr[-1].h) / NSamples(targets)\n"
     ]
    },
    {
     "name": "stdout",
     "output_type": "stream",
     "text": [
      "Cost Function: cross-entropy Activation Hidden: logistic Activation Output: ReLU Mean Test Accuracy: 0.37349397590361444\n"
     ]
    },
    {
     "name": "stderr",
     "output_type": "stream",
     "text": [
      "/Users/pranaab/Developer/Term4B/CS489/A3/Network.py:98: RuntimeWarning: invalid value encountered in log\n",
      "  E = -np.sum( t*np.log(y) + (1.-t)*np.log(1.-y) )\n"
     ]
    },
    {
     "name": "stdout",
     "output_type": "stream",
     "text": [
      "Cost Function: cross-entropy Activation Hidden: logistic Activation Output: tanh Mean Test Accuracy: 0.24096385542168677\n",
      "Cost Function: cross-entropy Activation Hidden: logistic Activation Output: identity Mean Test Accuracy: 0.2959036144578313\n",
      "Cost Function: cross-entropy Activation Hidden: ReLU Activation Output: logistic Mean Test Accuracy: 0.8154216867469879\n",
      "Cost Function: cross-entropy Activation Hidden: ReLU Activation Output: ReLU Mean Test Accuracy: 0.37349397590361444\n"
     ]
    },
    {
     "name": "stderr",
     "output_type": "stream",
     "text": [
      "/Users/pranaab/Developer/Term4B/CS489/A3/Network.py:98: RuntimeWarning: divide by zero encountered in log\n",
      "  E = -np.sum( t*np.log(y) + (1.-t)*np.log(1.-y) )\n",
      "/Users/pranaab/Developer/Term4B/CS489/A3/Network.py:98: RuntimeWarning: invalid value encountered in multiply\n",
      "  E = -np.sum( t*np.log(y) + (1.-t)*np.log(1.-y) )\n"
     ]
    },
    {
     "name": "stdout",
     "output_type": "stream",
     "text": [
      "Cost Function: cross-entropy Activation Hidden: ReLU Activation Output: tanh Mean Test Accuracy: 0.3007228915662651\n",
      "Cost Function: cross-entropy Activation Hidden: ReLU Activation Output: identity Mean Test Accuracy: 0.2780722891566265\n",
      "Cost Function: cross-entropy Activation Hidden: arctan Activation Output: logistic Mean Test Accuracy: 0.8260240963855422\n",
      "Cost Function: cross-entropy Activation Hidden: arctan Activation Output: ReLU Mean Test Accuracy: 0.37349397590361444\n",
      "Cost Function: cross-entropy Activation Hidden: arctan Activation Output: tanh Mean Test Accuracy: 0.20867469879518072\n",
      "Cost Function: cross-entropy Activation Hidden: arctan Activation Output: identity Mean Test Accuracy: 0.30024096385542165\n",
      "Cost Function: cross-entropy Activation Hidden: tanh Activation Output: logistic Mean Test Accuracy: 0.853012048192771\n",
      "Cost Function: cross-entropy Activation Hidden: tanh Activation Output: ReLU Mean Test Accuracy: 0.37349397590361444\n",
      "Cost Function: cross-entropy Activation Hidden: tanh Activation Output: tanh Mean Test Accuracy: 0.26554216867469876\n",
      "Cost Function: cross-entropy Activation Hidden: tanh Activation Output: identity Mean Test Accuracy: 0.26987951807228916\n",
      "Cost Function: cross-entropy Activation Hidden: identity Activation Output: logistic Mean Test Accuracy: 0.4881927710843373\n",
      "Cost Function: cross-entropy Activation Hidden: identity Activation Output: ReLU Mean Test Accuracy: 0.37349397590361444\n",
      "Cost Function: cross-entropy Activation Hidden: identity Activation Output: tanh Mean Test Accuracy: 0.20144578313253012\n",
      "Cost Function: cross-entropy Activation Hidden: identity Activation Output: identity Mean Test Accuracy: 0.23373493975903611\n",
      "Cost Function: MSE Activation Hidden: logistic Activation Output: logistic Mean Test Accuracy: 0.4915662650602409\n",
      "Cost Function: MSE Activation Hidden: logistic Activation Output: ReLU Mean Test Accuracy: 0.48240963855421687\n",
      "Cost Function: MSE Activation Hidden: logistic Activation Output: tanh Mean Test Accuracy: 0.6327710843373493\n",
      "Cost Function: MSE Activation Hidden: logistic Activation Output: identity Mean Test Accuracy: 0.6134939759036145\n",
      "Cost Function: MSE Activation Hidden: ReLU Activation Output: logistic Mean Test Accuracy: 0.634698795180723\n",
      "Cost Function: MSE Activation Hidden: ReLU Activation Output: ReLU Mean Test Accuracy: 0.5532530120481928\n",
      "Cost Function: MSE Activation Hidden: ReLU Activation Output: tanh Mean Test Accuracy: 0.6756626506024096\n",
      "Cost Function: MSE Activation Hidden: ReLU Activation Output: identity Mean Test Accuracy: 0.7653012048192771\n",
      "Cost Function: MSE Activation Hidden: arctan Activation Output: logistic Mean Test Accuracy: 0.6298795180722891\n",
      "Cost Function: MSE Activation Hidden: arctan Activation Output: ReLU Mean Test Accuracy: 0.5315662650602409\n",
      "Cost Function: MSE Activation Hidden: arctan Activation Output: tanh Mean Test Accuracy: 0.7479518072289157\n",
      "Cost Function: MSE Activation Hidden: arctan Activation Output: identity Mean Test Accuracy: 0.8255421686746989\n",
      "Cost Function: MSE Activation Hidden: tanh Activation Output: logistic Mean Test Accuracy: 0.7007228915662651\n",
      "Cost Function: MSE Activation Hidden: tanh Activation Output: ReLU Mean Test Accuracy: 0.5619277108433736\n",
      "Cost Function: MSE Activation Hidden: tanh Activation Output: tanh Mean Test Accuracy: 0.8183132530120482\n",
      "Cost Function: MSE Activation Hidden: tanh Activation Output: identity Mean Test Accuracy: 0.8212048192771085\n",
      "Cost Function: MSE Activation Hidden: identity Activation Output: logistic Mean Test Accuracy: 0.4573493975903615\n",
      "Cost Function: MSE Activation Hidden: identity Activation Output: ReLU Mean Test Accuracy: 0.4443373493975903\n",
      "Cost Function: MSE Activation Hidden: identity Activation Output: tanh Mean Test Accuracy: 0.49542168674698794\n",
      "Cost Function: MSE Activation Hidden: identity Activation Output: identity Mean Test Accuracy: 0.47855421686746985\n",
      "Best Accuracy: inf with parameters: \n"
     ]
    }
   ],
   "source": [
    "# This is for finding the best possible parameters giving the highest accuracy\n",
    "# Generate possible combinations of Loss functions ans Activations\n",
    "cost_functions = ['categorical-cross-entropy', 'cross-entropy', 'MSE']\n",
    "hidden_activation_functions = ['logistic','ReLU','arctan','tanh','identity']\n",
    "output_activation_functions = ['logistic','ReLU','tanh','identity']\n",
    "valid_output_lyr_activations = {cf: output_activation_functions for cf in cost_functions}\n",
    "valid_output_lyr_activations['categorical-cross-entropy'] = ['softmax']\n",
    "\n",
    "lyr_sizes = [2,10,4]\n",
    "best_mean = 0.0\n",
    "best_params = []\n",
    "\n",
    "for cost_f in cost_functions:\n",
    "    for act_h_f in hidden_activation_functions:\n",
    "        for act_o_f in valid_output_lyr_activations[cost_f]: \n",
    "            test_accuracy = []\n",
    "            for i in range(5):\n",
    "                net, _ = create_networks(cost_f, activation_hidden=act_h_f, activation_output=act_o_f,lyr_sizes=lyr_sizes)\n",
    "                progress = net.SGD(train[0], train[1], epochs=400, lrate=0.5, batch_size=10)\n",
    "                outputs, targets = net.FeedForward(test[0]), test[1]\n",
    "                accuracy = Network.ClassificationAccuracy(outputs, targets)\n",
    "                test_accuracy.append(accuracy)\n",
    "            mean_test_accuracy = np.mean(test_accuracy)\n",
    "            print(\"Cost Function: %s Activation Hidden: %s Activation Output: %s Mean Test Accuracy: %s\" % (cost_f, act_h_f, act_o_f, mean_test_accuracy))\n",
    "            if mean_test_accuracy > best_mean:\n",
    "                best_mean = mean_test_accuracy\n",
    "                best_params = [cost_f, act_h_f, act_o_f]\n",
    "\n",
    "print(\"Best Accuracy: %s with parameters: %s\" % (str(best_mean), ' '.join(best_params)))"
   ]
  },
  {
   "cell_type": "markdown",
   "metadata": {},
   "source": [
    "## (a) Create and Evaluate a Neural Network"
   ]
  },
  {
   "cell_type": "code",
   "execution_count": 103,
   "metadata": {},
   "outputs": [],
   "source": [
    "#Create Network\n",
    "net = RobustNetwork(cost='categorical-cross-entropy')\n",
    "net.AddLayer(Network.Layer(2))\n",
    "net.AddLayer(Network.Layer(10, act='arctan'))\n",
    "net.AddLayer(Network.Layer(4, act='softmax'))\n",
    "\n",
    "#Evaluate Network\n",
    "train, test = CreateDataset(params)\n",
    "progress = net.SGD(train[0], train[1], epochs=400, lrate=0.5)"
   ]
  },
  {
   "cell_type": "markdown",
   "metadata": {},
   "source": [
    "## (b) Evaluate Model"
   ]
  },
  {
   "cell_type": "code",
   "execution_count": 104,
   "metadata": {},
   "outputs": [
    {
     "name": "stdout",
     "output_type": "stream",
     "text": [
      "Accruracy: 0.9180722891566265\n"
     ]
    },
    {
     "data": {
      "image/png": "[encoded data removed]",
      "text/plain": [
       "<Figure size 432x288 with 1 Axes>"
      ]
     },
     "metadata": {
      "needs_background": "light"
     },
     "output_type": "display_data"
    }
   ],
   "source": [
    "outputs, targets = net.FeedForward(test[0]), test[1]\n",
    "accuracy = Network.ClassificationAccuracy(outputs, targets)\n",
    "print(\"Accruracy: %s\"%accuracy)\n",
    "\n",
    "ClassPlot(test[0], outputs)\n",
    "\n"
   ]
  },
  {
   "cell_type": "markdown",
   "metadata": {},
   "source": [
    "## (c) Crappy Network"
   ]
  },
  {
   "cell_type": "code",
   "execution_count": 105,
   "metadata": {},
   "outputs": [
    {
     "name": "stdout",
     "output_type": "stream",
     "text": [
      "Accruracy: 0.5204819277108435\n"
     ]
    },
    {
     "data": {
      "image/png": "[encoded data removed]",
      "text/plain": [
       "<Figure size 432x288 with 1 Axes>"
      ]
     },
     "metadata": {
      "needs_background": "light"
     },
     "output_type": "display_data"
    }
   ],
   "source": [
    "#Create Network\n",
    "net = RobustNetwork(cost='categorical-cross-entropy')\n",
    "net.AddLayer(Network.Layer(2))\n",
    "net.AddLayer(Network.Layer(10, act='identity'))\n",
    "net.AddLayer(Network.Layer(4, act='softmax'))\n",
    "\n",
    "#Evaluate Network\n",
    "train, test = CreateDataset(params)\n",
    "progress = net.SGD(train[0], train[1], epochs=400, lrate=0.5)\n",
    "\n",
    "outputs, targets = net.FeedForward(test[0]), test[1]\n",
    "accuracy = Network.ClassificationAccuracy(outputs, targets)\n",
    "print(\"Accruracy: %s\"%accuracy)\n",
    "\n",
    "ClassPlot(test[0], outputs)"
   ]
  },
  {
   "cell_type": "code",
   "execution_count": null,
   "metadata": {},
   "outputs": [],
   "source": []
  }
 ],
 "metadata": {
  "kernelspec": {
   "display_name": "Python 3",
   "language": "python",
   "name": "python3"
  },
  "language_info": {
   "codemirror_mode": {
    "name": "ipython",
    "version": 3
   },
   "file_extension": ".py",
   "mimetype": "text/x-python",
   "name": "python",
   "nbconvert_exporter": "python",
   "pygments_lexer": "ipython3",
   "version": "3.6.8"
  },
  "toc": {
   "nav_menu": {},
   "number_sections": true,
   "sideBar": true,
   "skip_h1_title": false,
   "title_cell": "Table of Contents",
   "title_sidebar": "Contents",
   "toc_cell": false,
   "toc_position": {},
   "toc_section_display": true,
   "toc_window_display": false
  }
 },
 "nbformat": 4,
 "nbformat_minor": 2
}
