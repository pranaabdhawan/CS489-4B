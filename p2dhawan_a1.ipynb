{
 "cells": [
  {
   "cell_type": "markdown",
   "metadata": {},
   "source": [
    "# A1"
   ]
  },
  {
   "cell_type": "code",
   "execution_count": 24,
   "metadata": {
    "code_folding": [
     0
    ]
   },
   "outputs": [],
   "source": [
    "# Standard imports\n",
    "import numpy as np\n",
    "import math\n",
    "import matplotlib.pylab as plt\n",
    "%matplotlib inline\n",
    "from scipy import integrate\n",
    "from collections import defaultdict"
   ]
  },
  {
   "cell_type": "markdown",
   "metadata": {
    "heading_collapsed": true
   },
   "source": [
    "## Some supplied helper functions"
   ]
  },
  {
   "cell_type": "code",
   "execution_count": 25,
   "metadata": {
    "code_folding": [],
    "hidden": true
   },
   "outputs": [],
   "source": [
    "def PlotSpikeRaster(st, y_range=[0, 1.]):\n",
    "    '''\n",
    "    PlotSpikeRaster(spiketimes, y_range=[0, 1.])\n",
    "\n",
    "    Plots a spike raster plot for a list of arrays of spike times.\n",
    "\n",
    "    Input:\n",
    "      spiketimes is a list of arrays of spike times, like that returned\n",
    "          by the function Stim2Spikes.\n",
    "      y_range is a 2-tuple that holds the y-values that the raster ticks\n",
    "          should be drawn between\n",
    "    '''\n",
    "    N = len(st)  # number of neurons\n",
    "\n",
    "    #levels = np.linspace(y_range[0], y_range[1], N+1, endpoint=True)\n",
    "    levels = np.linspace(y_range[1], y_range[0], N+1, endpoint=True)\n",
    "    for n in range(N):\n",
    "        nspikes = len(st[n])\n",
    "        #y = [ [levels[n]]*nspikes , [levels[n+1]]*nspikes ]\n",
    "        y = [ [levels[n+1]]*nspikes , [levels[n]]*nspikes ]\n",
    "        #y = y_range[0] + [levels[n]]*nspikes\n",
    "        plt.plot(np.vstack((st[n],st[n])), y, color=np.random.rand(3))\n",
    "    plt.ylim(y_range)\n",
    "    plt.xlabel('Time (s)')\n",
    "    return\n",
    "\n",
    "\n",
    "def GenerateSpikeTrain(rates, T, jitter=0.):\n",
    "    '''\n",
    "    spike_times = GenerateSpikeTrain(rates, T)\n",
    "    \n",
    "    Creates a spike train (as an array of time stamps).\n",
    "    \n",
    "    Input:\n",
    "    rates is an array or list of firing rates (in Hz), one\n",
    "        firing rate for each interval.\n",
    "    T is an array or list (the same size as 'rates') that gives\n",
    "        the time to end each interval\n",
    "    jitter is a scalar that determines how much the spikes\n",
    "        are randomly moved\n",
    "        \n",
    "    Output:\n",
    "    spike_times is an array of times when spikes occurred\n",
    "    \n",
    "    Example: To create a spike train of 10Hz for 0.5s, followed\n",
    "             by 25Hz that starts at 0.5s and ends at 2s, use\n",
    "             \n",
    "               GenerateSpikeTrain([10, 25], [0.5, 2])\n",
    "    '''\n",
    "    s = []\n",
    "    t = 0.\n",
    "    for idx in range(0,len(rates)):\n",
    "        Trange = T[idx] - t\n",
    "        if rates[idx]!=0:\n",
    "            delta = 1. / rates[idx]\n",
    "            N = rates[idx] * Trange\n",
    "            times = np.arange(t+delta/2., T[idx], delta)\n",
    "            times += np.random.normal(scale=delta*jitter, size=np.shape(times))\n",
    "            s.extend(times)\n",
    "        t = T[idx]\n",
    "    s.sort()\n",
    "    return np.array(s)\n",
    "\n",
    "\n",
    "class InputNeuron(object):\n",
    "    \n",
    "    def __init__(self, spiketrain):\n",
    "        '''\n",
    "        InputNeuron(spiketrain)\n",
    "        \n",
    "        Constructor for InputNeuron class.\n",
    "        \n",
    "        InputNeuron is a class of neuron that can be used to inject spikes into\n",
    "        the network. When involved in a simulation, an InputNeuron will generate\n",
    "        spikes at the times specified during its construction.\n",
    "        \n",
    "        Inputs:\n",
    "         spiketrain is an array or list of spike times\n",
    "        '''\n",
    "        self.spikes = np.array(spiketrain)\n",
    "\n",
    "    def SpikesBetween(self, t_start, t_end):\n",
    "        '''\n",
    "        numspikes = InputNeuron.SpikesBetween(t_start, t_end)\n",
    "        \n",
    "        Returns the number of times the neuron spiked between t_start and t_end.\n",
    "        Specifically, it counts a spike if it occurred at t, where\n",
    "        t_start <= t < t_end\n",
    "        '''\n",
    "        sp_bool = np.logical_and( np.array(self.spikes)>=t_start, np.array(self.spikes)<t_end )\n",
    "        return np.sum(sp_bool)\n",
    "    \n",
    "    def Slope(self):\n",
    "        return\n",
    "    \n",
    "    def Step(self, t, dt):\n",
    "        return"
   ]
  },
  {
   "cell_type": "markdown",
   "metadata": {},
   "source": [
    "# Q1: LIFNeuron Class"
   ]
  },
  {
   "cell_type": "markdown",
   "metadata": {},
   "source": [
    "## LIFNeuron class"
   ]
  },
  {
   "cell_type": "code",
   "execution_count": 26,
   "metadata": {
    "code_folding": []
   },
   "outputs": [],
   "source": [
    "class LIFNeuron(object):\n",
    "\n",
    "    def __init__(self, tau_m=0.02, tau_ref=0.002, tau_s=0.05):\n",
    "        '''\n",
    "        LIFNeuron(tau_m=0.02, tau_ref=0.002, tau_s=0.05)\n",
    "        \n",
    "        Constructor for LIFNeuron class\n",
    "        \n",
    "        Inputs:\n",
    "         tau_m   membrane time constant, in seconds (s)\n",
    "         tau_ref refractory period (s)\n",
    "         tau_s   synaptic time constant (s)\n",
    "        '''\n",
    "        self.tau_m = tau_m      # membrane time constant\n",
    "        self.tau_ref = tau_ref  # refractory period\n",
    "        self.tau_s = tau_s      # synaptic time constant\n",
    "        self.v = 0.             # sub-threshold membrane potential (voltage)\n",
    "        self.s = 0.             # post-synaptic current (PSC)\n",
    "        self.dvdt = 0.          # slope of v (w.r.t. time)\n",
    "        self.dsdt = 0.          # slope of s (w.r.t. time)\n",
    "        \n",
    "        self.weighted_incoming_spikes = 0.  # weighted sum of incoming spikes (for one time step)\n",
    "        self.ref_remaining = 0. # amount of time remaining in the refractory period\n",
    "        \n",
    "        # For plotting\n",
    "        self.v_history = []     # records v over time\n",
    "        self.spikes = []        # list of times when this neuron spiked\n",
    "        \n",
    "\n",
    "    def SpikesBetween(self, t_start, t_end):\n",
    "        '''\n",
    "        numspikes = LIFNeuron.SpikesBetween(t_start, t_end)\n",
    "        \n",
    "        Returns the number of times the neuron spiked between t_start and t_end.\n",
    "        Specifically, it counts a spike if it occurred at t, where\n",
    "        t_start <= t < t_end\n",
    "        '''\n",
    "        sp_bool = np.logical_and( np.array(self.spikes)>=t_start, np.array(self.spikes)<t_end )\n",
    "        return np.sum(sp_bool)\n",
    "    \n",
    "    \n",
    "    def Slope(self):\n",
    "        '''\n",
    "        LIFNeuron.Slope()\n",
    "        \n",
    "        Evaluates the right-hand side of the differential equations that\n",
    "        govern v and s. The slopes get stored in the internal variables\n",
    "          self.dvdt, and\n",
    "          self.dsdt\n",
    "        '''\n",
    "        #==== REPLACE THE CODE BELOW ====\n",
    "        self.dvdt = (self.s - self.v)/self.tau_m\n",
    "        self.dsdt = -self.s / self.tau_s\n",
    "        \n",
    "        \n",
    "    def Step(self, t, dt):\n",
    "        '''\n",
    "        LIFNeuron.Step(t, dt)\n",
    "        \n",
    "        Updates the LIF neuron state by taking an Euler step in v and s.\n",
    "        If v reaches the threshold of 1, the neuron fires an action potential\n",
    "        (spike). The spike time is appended to the list self.spikes, and v\n",
    "        is set to zero. After a spike, the neuron is dormant for self.tau_ref\n",
    "        seconds.\n",
    "        \n",
    "        If a spike occurs part-way through a time step, inear interpolation\n",
    "        is used to estimate the time that v hit the threshold of 1.\n",
    "        '''\n",
    "        \n",
    "        #==== PLACE YOUR CODE HERE ====\n",
    "        # Check wether neuron is dormant, adjust the times correspondingly\n",
    "        if self.ref_remaining > 0.0:\n",
    "            self.ref_remaining = max(0.0, self.ref_remaining - dt)\n",
    "            v=0.0\n",
    "            self.s = self.s + dt*self.dsdt\n",
    "#             print(\"t: %f\"% t)\n",
    "        else:\n",
    "            self.s = self.s + dt*self.dsdt\n",
    "            v = self.v + dt*self.dvdt\n",
    "\n",
    "            if v >= 1.0:\n",
    "                # Neuron fired an action potential\n",
    "                # Perform linear interpolation\n",
    "                interpolated_t = np.interp(1.0, [self.v, v], [t, t+dt])\n",
    "                self.spikes.append(interpolated_t)\n",
    "                v = 1.0\n",
    "#                 self.ref_remaining = t-interpolated_t + self.tau_ref <-- most likely soln.\n",
    "                self.ref_remaining = (self.tau_ref - (t+dt-interpolated_t))\n",
    "#                 self.ref_remaining = self.tau_ref\n",
    "    #             self.s += (1/self.tau_s)*self.weighted_incoming_spikes # Confirm this\n",
    "    \n",
    "        self.s += self.weighted_incoming_spikes/self.tau_s\n",
    "        self.v = v\n",
    "#             print(\"s: %f\" % self.s)\n",
    "            \n",
    "        # Store v (for plotting), and reset incoming spike accumulator\n",
    "        self.v_history.append(self.v)\n",
    "        self.weighted_incoming_spikes = 0.\n",
    "        \n",
    "        if self.v >= 1:\n",
    "            self.v = 0.0\n",
    "            \n",
    "        \n",
    "    def ReceiveSpike(self, w):\n",
    "        '''\n",
    "        LIFNeuron.ReceiveSpike(w)\n",
    "        \n",
    "        Registers the arrival of a spike from a presynaptic neuron. The\n",
    "        member variable self.weighted_incoming_spikes keeps track of all\n",
    "        the incoming spikes, each weighted by their respective connection\n",
    "        weights. It is sufficient to add them all together to tabulate the\n",
    "        total incoming weighted spikes (from all presynaptic neurons).\n",
    "        \n",
    "        Input:\n",
    "         w    is the connection weight from the presynaptic neuron.\n",
    "        '''\n",
    "        self.weighted_incoming_spikes += w  # [1]\n",
    "        "
   ]
  },
  {
   "cell_type": "markdown",
   "metadata": {
    "heading_collapsed": true
   },
   "source": [
    "# Q2: SpikingNetwork Class"
   ]
  },
  {
   "cell_type": "markdown",
   "metadata": {
    "heading_collapsed": true,
    "hidden": true
   },
   "source": [
    "## SpikingNetwork Class"
   ]
  },
  {
   "cell_type": "code",
   "execution_count": 41,
   "metadata": {
    "hidden": true
   },
   "outputs": [],
   "source": [
    "class SpikingNetwork(object):\n",
    "    \n",
    "    def __init__(self):\n",
    "        '''\n",
    "        SpikingNetwork()\n",
    "        \n",
    "        Constructor for SpikingNetwork class.\n",
    "        \n",
    "        The SpikingNetwork class contains a collection of neurons,\n",
    "        and the connections between those neurons.\n",
    "        '''\n",
    "        self.neurons = []      # List of neurons (of various kinds)\n",
    "        self.connections = []  # List of connections\n",
    "        self.t_history = []    # List of time stamps for the Euler steps\n",
    "                               # (Useful for plotting)\n",
    "        \n",
    "        \n",
    "    def AddNeuron(self, neur):\n",
    "        '''\n",
    "        SpikingNetwork.AddNeuron(neuron)\n",
    "        \n",
    "        Adds a neuron to the network.\n",
    "        \n",
    "        Input:\n",
    "         neuron is an object of type LIFNeuron or InputNeuron\n",
    "        '''\n",
    "        self.neurons.append(neur)\n",
    "\n",
    "        \n",
    "    def Connect(self, pre, post, w):\n",
    "        '''\n",
    "        SpikingNetwork.Connect(pre, post, w)\n",
    "        \n",
    "        Connects neuron 'pre' to neuron 'post' with a connection\n",
    "        weigth of w.\n",
    "        \n",
    "        Each \"connection\" is a list of 3 numbers of the form:\n",
    "         [ pre_idx, post_idx, weight ]\n",
    "        where\n",
    "         pre_idx is the list index of the pre-synaptic neuron,\n",
    "         post_idx is the list index of the post-synaptic neuron, and\n",
    "         weight is the connection weight.\n",
    "        eg. self.connections = [[0,1,0.05], [1,2,0.04], [1,0,-0.2]]\n",
    "        '''\n",
    "        self.connections.append([pre, post, w])\n",
    "     \n",
    "    \n",
    "    def Simulate(self, T, dt=0.001):\n",
    "        '''\n",
    "        SpikingNetwork.Simulate(T, dt=0.001)\n",
    "        \n",
    "        Simulates the network for T seconds by taking Euler steps\n",
    "        of size dt.\n",
    "        \n",
    "        Inputs:\n",
    "         T    how long to integrate for\n",
    "         dt   time step for Euler's method\n",
    "        '''\n",
    "        # This code takes care of recording time samples in a way\n",
    "        # that allows continuation. You needn't fuss over this code.\n",
    "        current = 0 if len(self.t_history)==0 else self.t_history[-1]\n",
    "        t_segment = np.arange(current, current+T, dt)\n",
    "        \n",
    "        #==== HERE IS WHERE YOUR CODE STARTS ====\n",
    "        spike_delivery = defaultdict(list)\n",
    "        next_spike_delivery = defaultdict(list)\n",
    "        \n",
    "    \n",
    "        # Loop over time steps (I've set that up for you)\n",
    "        for tt in t_segment:\n",
    "            self.t_history.append(tt)  # Record timestep\n",
    "            \n",
    "            for i in range(len(self.neurons)):\n",
    "                \n",
    "                # First deliver all the spikes from the last timestep to this neuron\n",
    "                for spike_weight in spike_delivery[i]:\n",
    "                    self.neurons[i].ReceiveSpike(spike_weight)\n",
    "    \n",
    "                # Remove from spike_delivery\n",
    "                if i in spike_delivery:\n",
    "                    spike_delivery.pop(i)\n",
    "                    \n",
    "                # Call Slope\n",
    "                self.neurons[i].Slope()\n",
    "                \n",
    "                # Call Step on Neuron\n",
    "                self.neurons[i].Step(tt, dt)\n",
    "                \n",
    "                \n",
    "                # for each neuron, check for spike\n",
    "                if self.neurons[i].SpikesBetween(tt, tt+dt):\n",
    "                    for pre, post, weight in filter(lambda x: x[0] == i, self.connections):\n",
    "                        next_spike_delivery[post].append(weight)\n",
    "                        \n",
    "            # Swap for the 2 timesteps\n",
    "            spike_delivery, next_spike_delivery = next_spike_delivery, defaultdict(list)\n",
    "            \n",
    "                \n",
    "            \n",
    "        #==== PLACE YOUR CODE HERE ====\n",
    "\n",
    "        \n",
    "        \n",
    "    def AllSpikeTimes(self):\n",
    "        '''\n",
    "        SpikingNetwork.AllSpikeTimes()\n",
    "        \n",
    "        Returns all the spikes of all the neurons in the network.\n",
    "        Useful for making spike-raster plots of network activity.\n",
    "        \n",
    "        Output:\n",
    "         all_spikes  a list of sublists, where each sublist holds\n",
    "                     the spike times of one of the neurons\n",
    "        '''\n",
    "        blah = []\n",
    "        for neur in self.neurons:\n",
    "            blah.append(np.array(neur.spikes))\n",
    "        return blah"
   ]
  },
  {
   "cell_type": "markdown",
   "metadata": {
    "heading_collapsed": true
   },
   "source": [
    "# Q3: Experiments with Spiking Networks"
   ]
  },
  {
   "cell_type": "markdown",
   "metadata": {
    "hidden": true
   },
   "source": [
    "## (a) One LIF Neuron"
   ]
  },
  {
   "cell_type": "code",
   "execution_count": 47,
   "metadata": {
    "hidden": true
   },
   "outputs": [],
   "source": [
    "net = SpikingNetwork()\n",
    "net.AddNeuron(LIFNeuron(tau_s=0.1))  # Neuron 0\n",
    "net.AddNeuron(InputNeuron( GenerateSpikeTrain([30], [1]) ))  # Neuron 1\n",
    "net.Connect(1, 0, 0.05)  # Connect from neuron 1 to neuron 0\n",
    "net.Simulate(1, 0.001)"
   ]
  },
  {
   "cell_type": "code",
   "execution_count": 48,
   "metadata": {
    "hidden": true
   },
   "outputs": [
    {
     "data": {
      "text/plain": [
       "Text(0, 0.5, 'Sub Threshold Membrane Potential (V)')"
      ]
     },
     "execution_count": 48,
     "metadata": {},
     "output_type": "execute_result"
    },
    {
     "data": {
      "image/png": "[encoded data removed]",
      "text/plain": [
       "<Figure size 432x288 with 1 Axes>"
      ]
     },
     "metadata": {
      "needs_background": "light"
     },
     "output_type": "display_data"
    }
   ],
   "source": [
    "# i.\n",
    "plt.figure()\n",
    "a1_net_v_history = net.neurons[0].v_history\n",
    "plt.plot(net.t_history, net.neurons[0].v_history)\n",
    "plt.title(\"Sub Threshold Membrane Potential (V) Plot\")\n",
    "plt.xlabel(\"Time (s)\")\n",
    "plt.ylabel(\"Sub Threshold Membrane Potential (V)\")\n"
   ]
  },
  {
   "cell_type": "code",
   "execution_count": 50,
   "metadata": {
    "hidden": true,
    "scrolled": true
   },
   "outputs": [
    {
     "data": {
      "image/png": "[encoded data removed]",
      "text/plain": [
       "<Figure size 432x288 with 1 Axes>"
      ]
     },
     "metadata": {
      "needs_background": "light"
     },
     "output_type": "display_data"
    }
   ],
   "source": [
    "# ii.\n",
    "PlotSpikeRaster(net.AllSpikeTimes())"
   ]
  },
  {
   "cell_type": "markdown",
   "metadata": {
    "hidden": true
   },
   "source": [
    "## (b) LIF Firing Rate Curve"
   ]
  },
  {
   "cell_type": "code",
   "execution_count": 54,
   "metadata": {
    "hidden": true
   },
   "outputs": [],
   "source": [
    "# i.\n",
    "net = SpikingNetwork()\n",
    "net.AddNeuron(LIFNeuron(tau_s=0.1))  # Neuron 0\n",
    "\n",
    "input_firing_rate = [i for i in range(5,101,5)]\n",
    "input_firing_time = [2*i for i in range(1,len(input_firing_rate)+1)]\n",
    "net.AddNeuron(InputNeuron( GenerateSpikeTrain(input_firing_rate, input_firing_time) ))  # Neuron 1\n",
    "net.Connect(1, 0, 0.03)  # Connect from neuron 1 to neuron 0\n",
    "net.Simulate(len(input_firing_time)*2, 0.001)"
   ]
  },
  {
   "cell_type": "code",
   "execution_count": 55,
   "metadata": {
    "hidden": true
   },
   "outputs": [
    {
     "name": "stdout",
     "output_type": "stream",
     "text": [
      "[0, 0, 0, 0, 0, 0, 30, 52, 72, 85, 96, 109, 122, 133, 144, 153, 166, 178, 182, 197]\n"
     ]
    }
   ],
   "source": [
    "# ii.\n",
    "# For each 2 second interval, compute how many spikes occurred\n",
    "output_spikes = []\n",
    "for t in range(len(input_firing_time)):\n",
    "    start = 0 if t==0 else input_firing_time[t-1]\n",
    "    end = input_firing_time[t]\n",
    "    output_spikes.append(net.neurons[0].SpikesBetween(start, end))\n",
    "    \n",
    "print(output_spikes)"
   ]
  },
  {
   "cell_type": "code",
   "execution_count": 56,
   "metadata": {
    "hidden": true
   },
   "outputs": [
    {
     "data": {
      "text/plain": [
       "Text(0, 0.5, 'LIF Firing Rate (Hz)')"
      ]
     },
     "execution_count": 56,
     "metadata": {},
     "output_type": "execute_result"
    },
    {
     "data": {
      "image/png": "[encoded data removed]",
      "text/plain": [
       "<Figure size 432x288 with 1 Axes>"
      ]
     },
     "metadata": {
      "needs_background": "light"
     },
     "output_type": "display_data"
    }
   ],
   "source": [
    "# iii.\n",
    "output_firing_rate = [ns/2 for ns in output_spikes]\n",
    "plt.figure()\n",
    "plt.plot(input_firing_rate, output_firing_rate)\n",
    "plt.title(\"Input Firing Rate vs LIF Firing Rate\")\n",
    "plt.xlabel(\"Input Firing Rate (Hz)\")\n",
    "plt.ylabel(\"LIF Firing Rate (Hz)\")"
   ]
  },
  {
   "cell_type": "markdown",
   "metadata": {
    "hidden": true
   },
   "source": [
    "## (c) Two LIF Neurons"
   ]
  },
  {
   "cell_type": "code",
   "execution_count": 57,
   "metadata": {
    "hidden": true
   },
   "outputs": [],
   "source": [
    "# i.\n",
    "net = SpikingNetwork()\n",
    "net.AddNeuron(LIFNeuron(tau_s=0.05)) # Neuron 0\n",
    "net.AddNeuron(LIFNeuron(tau_s=0.05)) # Neuron 1\n",
    "\n",
    "net.AddNeuron(InputNeuron( GenerateSpikeTrain([30, 0], [0.3,0]) )) # Neuron 2\n",
    "connections = [(2,0,0.05),(0, 1, 0.05), (1,0, 0.05)]\n",
    "for conn in connections:\n",
    "    net.Connect(*conn)\n",
    "    \n",
    "net.Simulate(1, 0.001)"
   ]
  },
  {
   "cell_type": "code",
   "execution_count": 58,
   "metadata": {
    "hidden": true
   },
   "outputs": [
    {
     "data": {
      "image/png": "[encoded data removed]",
      "text/plain": [
       "<Figure size 432x288 with 1 Axes>"
      ]
     },
     "metadata": {
      "needs_background": "light"
     },
     "output_type": "display_data"
    }
   ],
   "source": [
    "# ii.\n",
    "# Spike Raster Plot for the 3 neurons\n",
    "PlotSpikeRaster(net.AllSpikeTimes())"
   ]
  },
  {
   "cell_type": "markdown",
   "metadata": {
    "hidden": true
   },
   "source": [
    "## (d) Three LIF Neurons: Inhibition"
   ]
  },
  {
   "cell_type": "code",
   "execution_count": 73,
   "metadata": {
    "hidden": true
   },
   "outputs": [],
   "source": [
    "# i.\n",
    "net = SpikingNetwork()\n",
    "net.AddNeuron(LIFNeuron(tau_s=0.05)) # Neuron 0\n",
    "net.AddNeuron(LIFNeuron(tau_s=0.05)) # Neuron 1\n",
    "net.AddNeuron(LIFNeuron(tau_s=0.05)) # Neuron 2\n",
    "\n",
    "\n",
    "net.AddNeuron(InputNeuron( GenerateSpikeTrain([30, 0], [0.3,1]) )) # Neuron 3\n",
    "net.AddNeuron(InputNeuron( GenerateSpikeTrain([0, 50], [0.7,1]) )) # Neuron 4\n",
    "connections = [(3,0,0.05),(0, 1, 0.05), (1,0, 0.05), (2, 1, -0.2), (4, 2, 0.05)]\n",
    "for conn in connections:\n",
    "    net.Connect(*conn)\n",
    "\n",
    "net.Simulate(1.5, 0.001)"
   ]
  },
  {
   "cell_type": "code",
   "execution_count": 74,
   "metadata": {
    "hidden": true
   },
   "outputs": [
    {
     "data": {
      "image/png": "[encoded data removed]",
      "text/plain": [
       "<Figure size 432x288 with 1 Axes>"
      ]
     },
     "metadata": {
      "needs_background": "light"
     },
     "output_type": "display_data"
    }
   ],
   "source": [
    "# ii.\n",
    "PlotSpikeRaster(net.AllSpikeTimes())"
   ]
  },
  {
   "cell_type": "markdown",
   "metadata": {
    "hidden": true
   },
   "source": [
    "### iii."
   ]
  },
  {
   "cell_type": "markdown",
   "metadata": {
    "hidden": true
   },
   "source": [
    "Your answer here.\n",
    "\n",
    "(double-click)"
   ]
  },
  {
   "cell_type": "markdown",
   "metadata": {
    "hidden": true
   },
   "source": [
    "## (e) Ring Oscillator"
   ]
  },
  {
   "cell_type": "code",
   "execution_count": 103,
   "metadata": {
    "hidden": true
   },
   "outputs": [],
   "source": [
    "# i.\n",
    "# Create excitatory ring\n",
    "net = SpikingNetwork()\n",
    "connections = []\n",
    "for i in range(8):\n",
    "    net.AddNeuron(LIFNeuron(tau_s=0.1, tau_m=0.05))\n",
    "    net.Connect(i, (i+1)%8, 0.2)\n",
    "    "
   ]
  },
  {
   "cell_type": "code",
   "execution_count": 104,
   "metadata": {
    "hidden": true
   },
   "outputs": [],
   "source": [
    "# ii.\n",
    "# Create inhibitor ring\n",
    "for i in range(8):\n",
    "    net.Connect(i, (i-1)%8, -0.4)"
   ]
  },
  {
   "cell_type": "code",
   "execution_count": 105,
   "metadata": {
    "hidden": true
   },
   "outputs": [],
   "source": [
    "# iii.\n",
    "# Input Neuron\n",
    "net.AddNeuron(InputNeuron( GenerateSpikeTrain([25], [0.3]) )) # Neuron at index 8\n",
    "net.Connect(8,0,0.2)"
   ]
  },
  {
   "cell_type": "code",
   "execution_count": 106,
   "metadata": {
    "hidden": true
   },
   "outputs": [
    {
     "data": {
      "image/png": "[encoded data removed]",
      "text/plain": [
       "<Figure size 432x288 with 1 Axes>"
      ]
     },
     "metadata": {
      "needs_background": "light"
     },
     "output_type": "display_data"
    }
   ],
   "source": [
    "# iv.\n",
    "net.Simulate(4, 0.001)\n",
    "PlotSpikeRaster(net.AllSpikeTimes())"
   ]
  },
  {
   "cell_type": "markdown",
   "metadata": {
    "heading_collapsed": true
   },
   "source": [
    "# Q4: Neural Activation Functions"
   ]
  },
  {
   "cell_type": "markdown",
   "metadata": {
    "hidden": true
   },
   "source": [
    "## (a) ReLU derivative"
   ]
  },
  {
   "cell_type": "markdown",
   "metadata": {
    "hidden": true
   },
   "source": [
    "$$\n",
    "f(x) = 0 if x < 0, 1 if x > 0, NA if x == 0\n",
    "$$\n",
    "hello world"
   ]
  },
  {
   "cell_type": "markdown",
   "metadata": {
    "hidden": true
   },
   "source": [
    "## (b.i) Logistic"
   ]
  },
  {
   "cell_type": "code",
   "execution_count": 15,
   "metadata": {
    "hidden": true
   },
   "outputs": [
    {
     "data": {
      "text/plain": [
       "[<matplotlib.lines.Line2D at 0x11554c630>]"
      ]
     },
     "execution_count": 15,
     "metadata": {},
     "output_type": "execute_result"
    },
    {
     "data": {
      "image/png": "[encoded data removed]",
      "text/plain": [
       "<Figure size 432x288 with 1 Axes>"
      ]
     },
     "metadata": {
      "needs_background": "light"
     },
     "output_type": "display_data"
    }
   ],
   "source": [
    "# i.\n",
    "def logistic(x):\n",
    "    return 1/(1 + math.exp(-x))\n",
    "\n",
    "numbers = np.linspace(-6, 6, 50)\n",
    "values = [logistic(x) for x in numbers]\n",
    "plt.figure()\n",
    "plt.xlabel(\"x\")\n",
    "plt.ylabel(\"logistic(x)\")\n",
    "plt.plot(numbers, values)"
   ]
  },
  {
   "cell_type": "markdown",
   "metadata": {
    "hidden": true
   },
   "source": [
    "Gradient approaches zero at -6, 6  \n",
    "Gradient is maximum at 0"
   ]
  },
  {
   "cell_type": "markdown",
   "metadata": {
    "hidden": true
   },
   "source": [
    "## (b.ii) tanh"
   ]
  },
  {
   "cell_type": "code",
   "execution_count": 16,
   "metadata": {
    "hidden": true
   },
   "outputs": [
    {
     "data": {
      "text/plain": [
       "[<matplotlib.lines.Line2D at 0x115745860>]"
      ]
     },
     "execution_count": 16,
     "metadata": {},
     "output_type": "execute_result"
    },
    {
     "data": {
      "image/png": "[encoded data removed]",
      "text/plain": [
       "<Figure size 432x288 with 1 Axes>"
      ]
     },
     "metadata": {
      "needs_background": "light"
     },
     "output_type": "display_data"
    }
   ],
   "source": [
    "# ii.\n",
    "numbers = np.linspace(-6, 6, 50)\n",
    "values = [math.tanh(x) for x in numbers]\n",
    "plt.figure()\n",
    "plt.xlabel(\"x\")\n",
    "plt.ylabel(\"tanh(x)\")\n",
    "plt.plot(numbers, values)"
   ]
  },
  {
   "cell_type": "markdown",
   "metadata": {
    "hidden": true
   },
   "source": [
    "Gradient appraoches zero at -6, 6  \n",
    "Gradient is mazimum at 0  "
   ]
  },
  {
   "cell_type": "markdown",
   "metadata": {
    "hidden": true
   },
   "source": [
    "## (b.iii) ReLU"
   ]
  },
  {
   "cell_type": "code",
   "execution_count": 19,
   "metadata": {
    "hidden": true
   },
   "outputs": [
    {
     "data": {
      "text/plain": [
       "[<matplotlib.lines.Line2D at 0x115c6bfd0>]"
      ]
     },
     "execution_count": 19,
     "metadata": {},
     "output_type": "execute_result"
    },
    {
     "data": {
      "image/png": "[encoded data removed]",
      "text/plain": [
       "<Figure size 432x288 with 1 Axes>"
      ]
     },
     "metadata": {
      "needs_background": "light"
     },
     "output_type": "display_data"
    }
   ],
   "source": [
    "# iii.\n",
    "def relu(x):\n",
    "    return 0 if x <= 0 else x\n",
    "\n",
    "numbers = np.linspace(-6, 6, 100)\n",
    "values = [relu(x) for x in numbers]\n",
    "plt.figure()\n",
    "plt.xlabel(\"x\")\n",
    "plt.ylabel(\"relu(x)\")\n",
    "plt.plot(numbers, values)"
   ]
  },
  {
   "cell_type": "markdown",
   "metadata": {
    "hidden": true
   },
   "source": [
    "Gradient is maximum (=1) for x > 0  \n",
    "Gradient is 0 for x < 0"
   ]
  },
  {
   "cell_type": "markdown",
   "metadata": {
    "hidden": true
   },
   "source": [
    "## (c.i) Derivative of f with respect to x"
   ]
  },
  {
   "cell_type": "markdown",
   "metadata": {
    "hidden": true
   },
   "source": [
    "f'(wx+b).w"
   ]
  },
  {
   "cell_type": "markdown",
   "metadata": {
    "hidden": true
   },
   "source": [
    "## (c.ii) Derivative of f with respect to W"
   ]
  },
  {
   "cell_type": "markdown",
   "metadata": {
    "hidden": true
   },
   "source": [
    "f'(wx+b).x"
   ]
  },
  {
   "cell_type": "markdown",
   "metadata": {
    "hidden": true
   },
   "source": [
    "## (c.ii) Derivative of f with respect to b"
   ]
  },
  {
   "cell_type": "markdown",
   "metadata": {
    "hidden": true
   },
   "source": [
    "f'(wx+b)"
   ]
  },
  {
   "cell_type": "code",
   "execution_count": null,
   "metadata": {
    "hidden": true
   },
   "outputs": [],
   "source": []
  }
 ],
 "metadata": {
  "kernelspec": {
   "display_name": "Python 3",
   "language": "python",
   "name": "python3"
  },
  "language_info": {
   "codemirror_mode": {
    "name": "ipython",
    "version": 3
   },
   "file_extension": ".py",
   "mimetype": "text/x-python",
   "name": "python",
   "nbconvert_exporter": "python",
   "pygments_lexer": "ipython3",
   "version": "3.6.8"
  }
 },
 "nbformat": 4,
 "nbformat_minor": 2
}
